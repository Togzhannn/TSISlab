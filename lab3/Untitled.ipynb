{
 "cells": [
  {
   "cell_type": "markdown",
   "id": "908d7da1-ebf2-43c4-b89a-a8f805108a3e",
   "metadata": {},
   "source": [
    "task 1"
   ]
  },
  {
   "cell_type": "code",
   "execution_count": 3,
   "id": "56b04117-16c8-4ec8-9d9a-4efd4cfda07e",
   "metadata": {},
   "outputs": [
    {
     "name": "stdin",
     "output_type": "stream",
     "text": [
      "Enter a string:  hihi\n"
     ]
    },
    {
     "name": "stdout",
     "output_type": "stream",
     "text": [
      "HIHI\n"
     ]
    }
   ],
   "source": [
    "class StringHandler:\n",
    "    def init(self):\n",
    "        self.text = \"\"\n",
    "\n",
    "    def get_string(self):\n",
    "        self.text = input(\"Enter a string: \")\n",
    "\n",
    "    def to_get(self):\n",
    "        print(self.text.upper())\n",
    "handler = StringHandler()\n",
    "handler.get_string()\n",
    "handler.to_get()"
   ]
  },
  {
   "cell_type": "markdown",
   "id": "611edf36-bcbd-4455-849a-74ede14da593",
   "metadata": {},
   "source": [
    "task 2"
   ]
  },
  {
   "cell_type": "code",
   "execution_count": 29,
   "id": "56f70113-199d-4e88-be4f-79dcdf9b34bc",
   "metadata": {},
   "outputs": [
    {
     "name": "stdout",
     "output_type": "stream",
     "text": [
      "Shape area: 0\n"
     ]
    },
    {
     "name": "stdin",
     "output_type": "stream",
     "text": [
      "Enter the length of the square:  6\n"
     ]
    },
    {
     "name": "stdout",
     "output_type": "stream",
     "text": [
      "Square area: 36\n"
     ]
    }
   ],
   "source": [
    "class Shape:\n",
    "    def area(self):\n",
    "        return 0\n",
    "\n",
    "class Square(Shape):\n",
    "    def __init__(self, length):\n",
    "        self.length = length\n",
    "\n",
    "    def area(self):\n",
    "        return self.length * self.length\n",
    "\n",
    "\n",
    "shape = Shape()\n",
    "print(\"Shape area:\", shape.area())\n",
    "\n",
    "length = int(input(\"Enter the length of the square: \"))\n",
    "square = Square(length)\n",
    "print(\"Square area:\", square.area())\n"
   ]
  },
  {
   "cell_type": "markdown",
   "id": "b3d50a12-4dfb-4b55-b146-a5a8c64c8ba8",
   "metadata": {},
   "source": [
    "task 3"
   ]
  },
  {
   "cell_type": "code",
   "execution_count": 33,
   "id": "4cbea6e2-0ca1-43d3-80f9-9502ef206ee8",
   "metadata": {},
   "outputs": [
    {
     "name": "stdin",
     "output_type": "stream",
     "text": [
      "Enter the length of the rectangle:  5\n",
      "Enter the width of the rectangle:  4\n"
     ]
    },
    {
     "name": "stdout",
     "output_type": "stream",
     "text": [
      "Rectangle area: 20.0\n"
     ]
    }
   ],
   "source": [
    "class Shape:\n",
    "    def area(self):\n",
    "        return 0\n",
    "\n",
    "class Rectangle(Shape):\n",
    "    def __init__(self, length, width):\n",
    "        self.length = length\n",
    "        self.width = width\n",
    "\n",
    "    def area(self):\n",
    "        return self.length * self.width\n",
    "length = float(input(\"Enter the length of the rectangle: \"))\n",
    "width = float(input(\"Enter the width of the rectangle: \"))\n",
    "rectangle = Rectangle(length, width)\n",
    "print(\"Rectangle area:\", rectangle.area())\n"
   ]
  },
  {
   "cell_type": "markdown",
   "id": "df695bd2-1feb-42d5-8ff4-6ada5126225c",
   "metadata": {},
   "source": [
    "task 4"
   ]
  },
  {
   "cell_type": "code",
   "execution_count": 12,
   "id": "1f50a5e9-88bf-4180-b695-aaacdfeee67f",
   "metadata": {},
   "outputs": [
    {
     "name": "stdin",
     "output_type": "stream",
     "text": [
      "Enter x coordinate:  5\n",
      "Enter y coordinate:  4\n"
     ]
    },
    {
     "name": "stdout",
     "output_type": "stream",
     "text": [
      "(5.0, 4.0)\n"
     ]
    },
    {
     "name": "stdin",
     "output_type": "stream",
     "text": [
      "Enter new x coordinate:  8\n",
      "Enter new y coordinate:  9\n"
     ]
    },
    {
     "name": "stdout",
     "output_type": "stream",
     "text": [
      "(8.0, 9.0)\n"
     ]
    }
   ],
   "source": [
    "import math\n",
    "\n",
    "class Point:\n",
    "    def __init__(self, x, y): \n",
    "        self.x = x\n",
    "        self.y = y\n",
    "\n",
    "    def show(self):\n",
    "        print(f\"({self.x}, {self.y})\")\n",
    "\n",
    "    def move(self, new_x, new_y):\n",
    "        self.x = new_x\n",
    "        self.y = new_y\n",
    "\n",
    "    def dist(self, other):\n",
    "        return math.sqrt((self.x - other.x) ** 2 + (self.y - other.y) ** 2)  \n",
    "\n",
    "\n",
    "x = float(input(\"Enter x coordinate: \"))\n",
    "y = float(input(\"Enter y coordinate: \"))\n",
    "p1 = Point(x, y)\n",
    "p1.show()\n",
    "\n",
    "new_x = float(input(\"Enter new x coordinate: \"))\n",
    "new_y = float(input(\"Enter new y coordinate: \"))\n",
    "p1.move(new_x, new_y)\n",
    "p1.show()\n"
   ]
  },
  {
   "cell_type": "markdown",
   "id": "3610dccd-d141-4185-b946-f43b00fb20e2",
   "metadata": {},
   "source": [
    "task 5"
   ]
  },
  {
   "cell_type": "code",
   "execution_count": 21,
   "id": "67ce3cee-4883-48f9-8bc2-21eb06c403f3",
   "metadata": {},
   "outputs": [
    {
     "name": "stdin",
     "output_type": "stream",
     "text": [
      "Enter the account owner's name:  sasha\n",
      "Enter the initial balance:  546347\n",
      "Enter deposit amount:  6574\n"
     ]
    },
    {
     "name": "stdout",
     "output_type": "stream",
     "text": [
      "Deposited: 6574.0, New Balance: 552921.0\n"
     ]
    },
    {
     "name": "stdin",
     "output_type": "stream",
     "text": [
      "Enter withdrawal amount:  23\n"
     ]
    },
    {
     "name": "stdout",
     "output_type": "stream",
     "text": [
      "Withdrawn: 23.0, New Balance: 552898.0\n"
     ]
    }
   ],
   "source": [
    "class Account:\n",
    "    def __init__(self, owner, balance=0):\n",
    "        self.owner = owner\n",
    "        self.balance = balance\n",
    "\n",
    "    def deposit(self, amount):\n",
    "        self.balance += amount\n",
    "        print(f\"Deposited: {amount}, New Balance: {self.balance}\")\n",
    "\n",
    "    def withdraw(self, amount):\n",
    "        if amount > self.balance:\n",
    "            print(\"Insufficient funds.\")\n",
    "        else:\n",
    "            self.balance -= amount\n",
    "            print(f\"Withdrawn: {amount}, New Balance: {self.balance}\")\n",
    "\n",
    "owner = input(\"Enter the account owner's name: \")\n",
    "balance = float(input(\"Enter the initial balance: \"))\n",
    "account = Account(owner, balance)\n",
    "\n",
    "deposit_amount = float(input(\"Enter deposit amount: \"))\n",
    "account.deposit(deposit_amount)\n",
    "\n",
    "withdraw_amount = float(input(\"Enter withdrawal amount: \"))\n",
    "account.withdraw(withdraw_amount)\n"
   ]
  },
  {
   "cell_type": "markdown",
   "id": "f6fdb496-4f42-49d8-ae36-fdbb85e3051a",
   "metadata": {},
   "source": [
    "task 6"
   ]
  },
  {
   "cell_type": "code",
   "execution_count": 43,
   "id": "5e9119e1-2a8c-490c-b9ce-22e9b9ea2f78",
   "metadata": {},
   "outputs": [
    {
     "name": "stdin",
     "output_type": "stream",
     "text": [
      "Enter numbers separated by spaces:  8 9 3 6\n"
     ]
    },
    {
     "name": "stdout",
     "output_type": "stream",
     "text": [
      "Prime numbers: [3]\n"
     ]
    }
   ],
   "source": [
    "\n",
    "def is_prime(num):\n",
    "    if num < 2:\n",
    "        return False\n",
    "    return all(num % i != 0 for i in range(2, int(num**0.5) + 1))\n",
    "\n",
    "\n",
    "numbers = list(map(int, input(\"Enter numbers separated by spaces: \").split()))\n",
    "\n",
    "prime_numbers = list(filter(is_prime, numbers))\n",
    "\n",
    "print(\"Prime numbers:\", prime_numbers)\n"
   ]
  },
  {
   "cell_type": "markdown",
   "id": "b9a25eeb-55de-438f-803f-2511cb8d4644",
   "metadata": {},
   "source": [
    "func1.1"
   ]
  },
  {
   "cell_type": "code",
   "execution_count": 8,
   "id": "b925716d-6a2d-47aa-af21-17a62572d721",
   "metadata": {},
   "outputs": [
    {
     "name": "stdin",
     "output_type": "stream",
     "text": [
      "Enter the weight in grams:  45\n"
     ]
    },
    {
     "name": "stdout",
     "output_type": "stream",
     "text": [
      "1.58733\n"
     ]
    }
   ],
   "source": [
    "def grams_to_ounces(grams):\n",
    "    return grams * 0.035274\n",
    "\n",
    "grams = float(input(\"Enter the weight in grams: \"))\n",
    "print(grams_to_ounces(grams))"
   ]
  },
  {
   "cell_type": "markdown",
   "id": "3b7c3aed-cd04-480f-aad4-472f8f06d01a",
   "metadata": {},
   "source": [
    "func1.2"
   ]
  },
  {
   "cell_type": "code",
   "execution_count": 10,
   "id": "729a8e49-0d0e-4f0d-9b21-063ddaca5345",
   "metadata": {},
   "outputs": [
    {
     "name": "stdin",
     "output_type": "stream",
     "text": [
      "Enter temperature in Fahrenheit:  456\n"
     ]
    },
    {
     "name": "stdout",
     "output_type": "stream",
     "text": [
      "235.55555555555557\n"
     ]
    }
   ],
   "source": [
    "F = float(input(\"Enter temperature in Fahrenheit: \"))\n",
    "C = (5 / 9) * (F - 32)\n",
    "print(C)"
   ]
  },
  {
   "cell_type": "markdown",
   "id": "8fc5f608-0e0f-40a4-b5ab-24fabb90689c",
   "metadata": {},
   "source": [
    "func1.3"
   ]
  },
  {
   "cell_type": "code",
   "execution_count": 16,
   "id": "f73df1cd-b8d0-4da3-a53e-df67e37e089f",
   "metadata": {},
   "outputs": [
    {
     "name": "stdin",
     "output_type": "stream",
     "text": [
      "Enter the number of heads:  35\n",
      "Enter the number of legs:  94\n"
     ]
    },
    {
     "name": "stdout",
     "output_type": "stream",
     "text": [
      "Chickens: 23, Rabbits: 12\n"
     ]
    }
   ],
   "source": [
    "def solve(numheads, numlegs):\n",
    "    for chickens in range(numheads + 1):\n",
    "        rabbits = numheads - chickens\n",
    "        if (chickens * 2 + rabbits * 4) == numlegs:\n",
    "            return chickens, rabbits\n",
    "    return None\n",
    "\n",
    "numheads = int(input(\"Enter the number of heads: \"))\n",
    "numlegs = int(input(\"Enter the number of legs: \"))\n",
    "\n",
    "result = solve(numheads, numlegs)\n",
    "if result:\n",
    "    chickens, rabbits = result\n",
    "    print(f\"Chickens: {chickens}, Rabbits: {rabbits}\")\n",
    "else:\n",
    "    print(\"No solution found.\")\n"
   ]
  },
  {
   "cell_type": "markdown",
   "id": "3272f76b-950e-48d1-8b2c-52a4da67f880",
   "metadata": {},
   "source": [
    "func1.4"
   ]
  },
  {
   "cell_type": "code",
   "execution_count": 18,
   "id": "c17f047b-f40b-40a7-8067-e06cdae0ba23",
   "metadata": {},
   "outputs": [
    {
     "name": "stdin",
     "output_type": "stream",
     "text": [
      "Enter numbers separated by spaces:  10 15 17 19 21 23 29\n"
     ]
    },
    {
     "name": "stdout",
     "output_type": "stream",
     "text": [
      "[17, 19, 23, 29]\n"
     ]
    }
   ],
   "source": [
    "def filter_prime(numbers):\n",
    "    def is_prime(n):\n",
    "        if n < 2:\n",
    "            return False\n",
    "        for i in range(2, int(n ** 0.5) + 1):\n",
    "            if n % i == 0:\n",
    "                return False\n",
    "        return True\n",
    "\n",
    "    return [num for num in numbers if is_prime(num)]\n",
    "\n",
    "numbers = list(map(int, input(\"Enter numbers separated by spaces: \").split()))\n",
    "print(filter_prime(numbers))\n"
   ]
  },
  {
   "cell_type": "markdown",
   "id": "6a49e715-f6c5-4b68-aa68-3a474a2917fc",
   "metadata": {},
   "source": [
    "func1.5"
   ]
  },
  {
   "cell_type": "code",
   "execution_count": 20,
   "id": "24cb0927-bca8-43af-8226-b83feb0b5086",
   "metadata": {},
   "outputs": [
    {
     "name": "stdin",
     "output_type": "stream",
     "text": [
      "Enter a string:  abc\n"
     ]
    },
    {
     "name": "stdout",
     "output_type": "stream",
     "text": [
      "abc\n",
      "acb\n",
      "bac\n",
      "bca\n",
      "cab\n",
      "cba\n"
     ]
    }
   ],
   "source": [
    "from itertools import permutations\n",
    "\n",
    "def print_permutations(string):\n",
    "    for perm in permutations(string):\n",
    "        print(\"\".join(perm))\n",
    "\n",
    "user_input = input(\"Enter a string: \")\n",
    "print_permutations(user_input)\n"
   ]
  },
  {
   "cell_type": "markdown",
   "id": "b7d28d1f-d11f-45c9-a709-567ce5fdbe98",
   "metadata": {},
   "source": [
    "func1.6"
   ]
  },
  {
   "cell_type": "code",
   "execution_count": 27,
   "id": "1e52c748-2b57-4830-9a20-a46386157081",
   "metadata": {},
   "outputs": [
    {
     "name": "stdin",
     "output_type": "stream",
     "text": [
      "Enter a sentence:  We are ready\n"
     ]
    },
    {
     "name": "stdout",
     "output_type": "stream",
     "text": [
      "ready are We\n"
     ]
    }
   ],
   "source": [
    "def reverse_words(sentence):\n",
    "    return \" \".join(sentence.split()[::-1])\n",
    "\n",
    "user_input = input(\"Enter a sentence: \")\n",
    "print(reverse_words(user_input))\n"
   ]
  },
  {
   "cell_type": "markdown",
   "id": "b85a2dc0-a8f9-4a0e-b571-ff7bab20dcb0",
   "metadata": {},
   "source": [
    "func1.7"
   ]
  },
  {
   "cell_type": "code",
   "execution_count": 37,
   "id": "1479b723-ffea-45d3-b99c-2a086d6b8c7a",
   "metadata": {},
   "outputs": [
    {
     "name": "stdout",
     "output_type": "stream",
     "text": [
      "True\n",
      "False\n",
      "False\n"
     ]
    }
   ],
   "source": [
    "def has_33(nums):\n",
    "    for i in range(len(nums) - 1):\n",
    "        if nums[i] == 3 and nums[i + 1] == 3:\n",
    "            return True\n",
    "    return False\n",
    "\n",
    "print(has_33([1, 3, 3])) \n",
    "print(has_33([1, 3, 1, 3])) \n",
    "print(has_33([3, 1, 3]))  \n"
   ]
  },
  {
   "cell_type": "markdown",
   "id": "16a4de49-3dce-4f3c-a812-9186d12452ee",
   "metadata": {},
   "source": [
    "func1.8"
   ]
  },
  {
   "cell_type": "code",
   "execution_count": 39,
   "id": "63336b42-147a-4b32-b6a4-8e3a6645adb5",
   "metadata": {},
   "outputs": [
    {
     "name": "stdin",
     "output_type": "stream",
     "text": [
      "Enter a list of numbers separated by spaces:  1 2 4 0 0 7 5\n"
     ]
    },
    {
     "name": "stdout",
     "output_type": "stream",
     "text": [
      "True\n"
     ]
    }
   ],
   "source": [
    "def spy_game(nums):\n",
    "    code = [0, 0, 7]\n",
    "    for num in nums:\n",
    "        if num == code[0]:\n",
    "            code.pop(0)\n",
    "        if not code:\n",
    "            return True\n",
    "    return False\n",
    "\n",
    "nums = list(map(int, input(\"Enter a list of numbers separated by spaces: \").split()))\n",
    "print(spy_game(nums))\n"
   ]
  },
  {
   "cell_type": "markdown",
   "id": "b08aace1-18d3-42cf-8406-c5d7b6a68800",
   "metadata": {},
   "source": [
    "func1.9"
   ]
  },
  {
   "cell_type": "code",
   "execution_count": 46,
   "id": "89545611-5ed9-48ae-8325-837b7620c08a",
   "metadata": {},
   "outputs": [
    {
     "name": "stdin",
     "output_type": "stream",
     "text": [
      "Enter the radius of the sphere:  25\n"
     ]
    },
    {
     "name": "stdout",
     "output_type": "stream",
     "text": [
      "Volume of the sphere: 65449.84694978735\n"
     ]
    }
   ],
   "source": [
    "import math\n",
    "\n",
    "def sphere_volume(radius):\n",
    "    return (4/3) * math.pi * radius**3\n",
    "\n",
    "if __name__ == \"__main__\":\n",
    "    radius = float(input(\"Enter the radius of the sphere: \"))\n",
    "    print(\"Volume of the sphere:\", sphere_volume(radius))\n"
   ]
  },
  {
   "cell_type": "markdown",
   "id": "13df7056-5857-4bcb-8993-bdb0159e8c52",
   "metadata": {},
   "source": [
    "func1.10"
   ]
  },
  {
   "cell_type": "code",
   "execution_count": 51,
   "id": "bf9ea738-40a6-4968-abfa-d81f99564bf8",
   "metadata": {},
   "outputs": [
    {
     "name": "stdin",
     "output_type": "stream",
     "text": [
      "Enter a list of numbers separated by spaces:  5 5 35 7 8\n"
     ]
    },
    {
     "name": "stdout",
     "output_type": "stream",
     "text": [
      "Unique elements: [5, 35, 7, 8]\n"
     ]
    }
   ],
   "source": [
    "def unique_elements(lst):\n",
    "    unique_list = []\n",
    "    for item in lst:\n",
    "        if item not in unique_list:\n",
    "            unique_list.append(item)\n",
    "    return unique_list\n",
    "\n",
    "if __name__ == \"__main__\":\n",
    "    user_list = input(\"Enter a list of numbers separated by spaces: \").split()\n",
    "    user_list = [int(num) for num in user_list]\n",
    "    print(\"Unique elements:\", unique_elements(user_list))\n"
   ]
  },
  {
   "cell_type": "markdown",
   "id": "954170fa-9984-43d1-b3ef-64d4660cbc5c",
   "metadata": {},
   "source": [
    "func1.11"
   ]
  },
  {
   "cell_type": "code",
   "execution_count": 54,
   "id": "992773d7-5a8d-4af9-9451-959b0cf7cc1e",
   "metadata": {},
   "outputs": [
    {
     "name": "stdin",
     "output_type": "stream",
     "text": [
      "Enter a word or phrase:  kbtu\n"
     ]
    },
    {
     "name": "stdout",
     "output_type": "stream",
     "text": [
      "Is palindrome: False\n"
     ]
    }
   ],
   "source": [
    "def is_palindrome(s):\n",
    "    s = s.replace(\" \", \"\").lower()\n",
    "    return s == s[::-1]\n",
    "\n",
    "if __name__ == \"__main__\":\n",
    "    user_input = input(\"Enter a word or phrase: \")\n",
    "    print(\"Is palindrome:\", is_palindrome(user_input))\n"
   ]
  },
  {
   "cell_type": "markdown",
   "id": "4487ead0-8cdb-40b7-b6fa-08a2aea0268e",
   "metadata": {},
   "source": [
    "func1.12"
   ]
  },
  {
   "cell_type": "code",
   "execution_count": 61,
   "id": "5a3565ed-e7d0-4f36-9dc0-044f469fbc4d",
   "metadata": {},
   "outputs": [
    {
     "name": "stdin",
     "output_type": "stream",
     "text": [
      "Hello! What is your name?\n",
      " togzhan\n"
     ]
    },
    {
     "name": "stdout",
     "output_type": "stream",
     "text": [
      "Well, togzhan, I am thinking of a number between 1 and 20.\n"
     ]
    },
    {
     "name": "stdin",
     "output_type": "stream",
     "text": [
      "Take a guess.\n",
      " 4\n"
     ]
    },
    {
     "name": "stdout",
     "output_type": "stream",
     "text": [
      "Your guess is too low.\n"
     ]
    },
    {
     "name": "stdin",
     "output_type": "stream",
     "text": [
      "Take a guess.\n",
      " 19\n"
     ]
    },
    {
     "name": "stdout",
     "output_type": "stream",
     "text": [
      "Your guess is too high.\n"
     ]
    },
    {
     "name": "stdin",
     "output_type": "stream",
     "text": [
      "Take a guess.\n",
      " 20\n"
     ]
    },
    {
     "name": "stdout",
     "output_type": "stream",
     "text": [
      "Your guess is too high.\n"
     ]
    },
    {
     "name": "stdin",
     "output_type": "stream",
     "text": [
      "Take a guess.\n",
      " 7\n"
     ]
    },
    {
     "name": "stdout",
     "output_type": "stream",
     "text": [
      "Your guess is too low.\n"
     ]
    },
    {
     "name": "stdin",
     "output_type": "stream",
     "text": [
      "Take a guess.\n",
      " 9\n"
     ]
    },
    {
     "name": "stdout",
     "output_type": "stream",
     "text": [
      "Your guess is too low.\n"
     ]
    },
    {
     "name": "stdin",
     "output_type": "stream",
     "text": [
      "Take a guess.\n",
      " 13\n"
     ]
    },
    {
     "name": "stdout",
     "output_type": "stream",
     "text": [
      "Your guess is too high.\n"
     ]
    },
    {
     "name": "stdin",
     "output_type": "stream",
     "text": [
      "Take a guess.\n",
      " 12\n"
     ]
    },
    {
     "name": "stdout",
     "output_type": "stream",
     "text": [
      "Your guess is too high.\n"
     ]
    },
    {
     "name": "stdin",
     "output_type": "stream",
     "text": [
      "Take a guess.\n",
      " 11\n"
     ]
    },
    {
     "name": "stdout",
     "output_type": "stream",
     "text": [
      "Good job, togzhan! You guessed my number in 8 guesses!\n"
     ]
    }
   ],
   "source": [
    "import random\n",
    "\n",
    "def guess_the_number():\n",
    "    name = input(\"Hello! What is your name?\\n\")\n",
    "    print(f\"Well, {name}, I am thinking of a number between 1 and 20.\")\n",
    "    number = random.randint(1, 20)\n",
    "    guesses = 0\n",
    "\n",
    "    while True:\n",
    "        try:\n",
    "            guess = int(input(\"Take a guess.\\n\"))\n",
    "            guesses += 1\n",
    "            if guess < number:\n",
    "                print(\"Your guess is too low.\")\n",
    "            elif guess > number:\n",
    "                print(\"Your guess is too high.\")\n",
    "            else:\n",
    "                print(f\"Good job, {name}! You guessed my number in {guesses} guesses!\")\n",
    "                break\n",
    "        except ValueError:\n",
    "            print(\"Please enter a valid number.\")\n",
    "\n",
    "guess_the_number()\n"
   ]
  },
  {
   "cell_type": "markdown",
   "id": "f0587c6b-b36d-4f83-8036-3305b447a633",
   "metadata": {},
   "source": [
    "func2.1"
   ]
  },
  {
   "cell_type": "code",
   "execution_count": 63,
   "id": "3de525b2-42b7-4d6d-8cf5-5e9ad8138689",
   "metadata": {},
   "outputs": [
    {
     "name": "stdin",
     "output_type": "stream",
     "text": [
      "Enter movie name:  The Help\n"
     ]
    },
    {
     "name": "stdout",
     "output_type": "stream",
     "text": [
      "Is highly rated: True\n"
     ]
    }
   ],
   "source": [
    "movies = [\n",
    "    {\"name\": \"Usual Suspects\", \"imdb\": 7.0, \"category\": \"Thriller\"},\n",
    "    {\"name\": \"Hitman\", \"imdb\": 6.3, \"category\": \"Action\"},\n",
    "    {\"name\": \"Dark Knight\", \"imdb\": 9.0, \"category\": \"Adventure\"},\n",
    "    {\"name\": \"The Help\", \"imdb\": 8.0, \"category\": \"Drama\"},\n",
    "    {\"name\": \"The Choice\", \"imdb\": 6.2, \"category\": \"Romance\"},\n",
    "    {\"name\": \"Colonia\", \"imdb\": 7.4, \"category\": \"Romance\"},\n",
    "    {\"name\": \"Love\", \"imdb\": 6.0, \"category\": \"Romance\"},\n",
    "    {\"name\": \"Bride Wars\", \"imdb\": 5.4, \"category\": \"Romance\"},\n",
    "    {\"name\": \"AlphaJet\", \"imdb\": 3.2, \"category\": \"War\"},\n",
    "    {\"name\": \"Ringing Crime\", \"imdb\": 4.0, \"category\": \"Crime\"},\n",
    "    {\"name\": \"Joking muck\", \"imdb\": 7.2, \"category\": \"Comedy\"},\n",
    "    {\"name\": \"What is the name\", \"imdb\": 9.2, \"category\": \"Suspense\"},\n",
    "    {\"name\": \"Detective\", \"imdb\": 7.0, \"category\": \"Suspense\"},\n",
    "    {\"name\": \"Exam\", \"imdb\": 4.2, \"category\": \"Thriller\"},\n",
    "    {\"name\": \"We Two\", \"imdb\": 7.2, \"category\": \"Romance\"}\n",
    "]\n",
    "\n",
    "def is_highly_rated(movie):\n",
    "    return movie[\"imdb\"] > 5.5\n",
    "\n",
    "if __name__ == \"__main__\":\n",
    "    movie_name = input(\"Enter movie name: \")\n",
    "    movie = next((m for m in movies if m[\"name\"].lower() == movie_name.lower()), None)\n",
    "    if movie:\n",
    "        print(\"Is highly rated:\", is_highly_rated(movie))\n",
    "    else:\n",
    "        print(\"Movie not found.\")\n"
   ]
  },
  {
   "cell_type": "markdown",
   "id": "b19696f1-c1b2-475c-9c39-c32f37c963ae",
   "metadata": {},
   "source": [
    "func2.2"
   ]
  },
  {
   "cell_type": "code",
   "execution_count": 65,
   "id": "978995a3-2259-404a-b6af-95568f914e62",
   "metadata": {},
   "outputs": [
    {
     "name": "stdout",
     "output_type": "stream",
     "text": [
      "Movies with IMDB score above 5.5:\n",
      "Usual Suspects\n",
      "Hitman\n",
      "Dark Knight\n",
      "The Help\n",
      "The Choice\n",
      "Colonia\n",
      "Love\n",
      "Joking muck\n",
      "What is the name\n",
      "Detective\n",
      "We Two\n"
     ]
    }
   ],
   "source": [
    "movies = [\n",
    "    {\"name\": \"Usual Suspects\", \"imdb\": 7.0, \"category\": \"Thriller\"},\n",
    "    {\"name\": \"Hitman\", \"imdb\": 6.3, \"category\": \"Action\"},\n",
    "    {\"name\": \"Dark Knight\", \"imdb\": 9.0, \"category\": \"Adventure\"},\n",
    "    {\"name\": \"The Help\", \"imdb\": 8.0, \"category\": \"Drama\"},\n",
    "    {\"name\": \"The Choice\", \"imdb\": 6.2, \"category\": \"Romance\"},\n",
    "    {\"name\": \"Colonia\", \"imdb\": 7.4, \"category\": \"Romance\"},\n",
    "    {\"name\": \"Love\", \"imdb\": 6.0, \"category\": \"Romance\"},\n",
    "    {\"name\": \"Bride Wars\", \"imdb\": 5.4, \"category\": \"Romance\"},\n",
    "    {\"name\": \"AlphaJet\", \"imdb\": 3.2, \"category\": \"War\"},\n",
    "    {\"name\": \"Ringing Crime\", \"imdb\": 4.0, \"category\": \"Crime\"},\n",
    "    {\"name\": \"Joking muck\", \"imdb\": 7.2, \"category\": \"Comedy\"},\n",
    "    {\"name\": \"What is the name\", \"imdb\": 9.2, \"category\": \"Suspense\"},\n",
    "    {\"name\": \"Detective\", \"imdb\": 7.0, \"category\": \"Suspense\"},\n",
    "    {\"name\": \"Exam\", \"imdb\": 4.2, \"category\": \"Thriller\"},\n",
    "    {\"name\": \"We Two\", \"imdb\": 7.2, \"category\": \"Romance\"}\n",
    "]\n",
    "\n",
    "def highly_rated_movies(movie_list):\n",
    "    return [movie for movie in movie_list if movie[\"imdb\"] > 5.5]\n",
    "\n",
    "if __name__ == \"__main__\":\n",
    "    print(\"Movies with IMDB score above 5.5:\")\n",
    "    for movie in highly_rated_movies(movies):\n",
    "        print(movie[\"name\"])"
   ]
  },
  {
   "cell_type": "markdown",
   "id": "66d0617e-f14c-4de0-a60a-e2ddc3899cdb",
   "metadata": {},
   "source": [
    "func2.3"
   ]
  },
  {
   "cell_type": "code",
   "execution_count": 69,
   "id": "823dc442-0d4d-42ac-a902-93aa17455647",
   "metadata": {},
   "outputs": [
    {
     "name": "stdin",
     "output_type": "stream",
     "text": [
      "Enter category name:  Thriller\n"
     ]
    },
    {
     "name": "stdout",
     "output_type": "stream",
     "text": [
      "Movies in category:\n",
      "Usual Suspects\n",
      "Exam\n"
     ]
    }
   ],
   "source": [
    "movies = [\n",
    "    {\"name\": \"Usual Suspects\", \"imdb\": 7.0, \"category\": \"Thriller\"},\n",
    "    {\"name\": \"Hitman\", \"imdb\": 6.3, \"category\": \"Action\"},\n",
    "    {\"name\": \"Dark Knight\", \"imdb\": 9.0, \"category\": \"Adventure\"},\n",
    "    {\"name\": \"The Help\", \"imdb\": 8.0, \"category\": \"Drama\"},\n",
    "    {\"name\": \"The Choice\", \"imdb\": 6.2, \"category\": \"Romance\"},\n",
    "    {\"name\": \"Colonia\", \"imdb\": 7.4, \"category\": \"Romance\"},\n",
    "    {\"name\": \"Love\", \"imdb\": 6.0, \"category\": \"Romance\"},\n",
    "    {\"name\": \"Bride Wars\", \"imdb\": 5.4, \"category\": \"Romance\"},\n",
    "    {\"name\": \"AlphaJet\", \"imdb\": 3.2, \"category\": \"War\"},\n",
    "    {\"name\": \"Ringing Crime\", \"imdb\": 4.0, \"category\": \"Crime\"},\n",
    "    {\"name\": \"Joking muck\", \"imdb\": 7.2, \"category\": \"Comedy\"},\n",
    "    {\"name\": \"What is the name\", \"imdb\": 9.2, \"category\": \"Suspense\"},\n",
    "    {\"name\": \"Detective\", \"imdb\": 7.0, \"category\": \"Suspense\"},\n",
    "    {\"name\": \"Exam\", \"imdb\": 4.2, \"category\": \"Thriller\"},\n",
    "    {\"name\": \"We Two\", \"imdb\": 7.2, \"category\": \"Romance\"}\n",
    "]\n",
    "\n",
    "def movies_by_category(movie_list, category):\n",
    "    return [movie for movie in movie_list if movie[\"category\"].lower() == category.lower()]\n",
    "\n",
    "if __name__ == \"__main__\":\n",
    "    category = input(\"Enter category name: \")\n",
    "    print(\"Movies in category:\")\n",
    "    for movie in movies_by_category(movies, category):\n",
    "        print(movie[\"name\"])\n"
   ]
  },
  {
   "cell_type": "markdown",
   "id": "684d70a9-7498-49d4-b98e-b0f79feddf8b",
   "metadata": {},
   "source": [
    "func2.4"
   ]
  },
  {
   "cell_type": "code",
   "execution_count": 72,
   "id": "3725dd79-0d82-4355-97f1-5a489d8919ef",
   "metadata": {},
   "outputs": [
    {
     "name": "stdout",
     "output_type": "stream",
     "text": [
      "Average IMDB score: 6.486666666666666\n"
     ]
    }
   ],
   "source": [
    "movies = [\n",
    "    {\"name\": \"Usual Suspects\", \"imdb\": 7.0, \"category\": \"Thriller\"},\n",
    "    {\"name\": \"Hitman\", \"imdb\": 6.3, \"category\": \"Action\"},\n",
    "    {\"name\": \"Dark Knight\", \"imdb\": 9.0, \"category\": \"Adventure\"},\n",
    "    {\"name\": \"The Help\", \"imdb\": 8.0, \"category\": \"Drama\"},\n",
    "    {\"name\": \"The Choice\", \"imdb\": 6.2, \"category\": \"Romance\"},\n",
    "    {\"name\": \"Colonia\", \"imdb\": 7.4, \"category\": \"Romance\"},\n",
    "    {\"name\": \"Love\", \"imdb\": 6.0, \"category\": \"Romance\"},\n",
    "    {\"name\": \"Bride Wars\", \"imdb\": 5.4, \"category\": \"Romance\"},\n",
    "    {\"name\": \"AlphaJet\", \"imdb\": 3.2, \"category\": \"War\"},\n",
    "    {\"name\": \"Ringing Crime\", \"imdb\": 4.0, \"category\": \"Crime\"},\n",
    "    {\"name\": \"Joking muck\", \"imdb\": 7.2, \"category\": \"Comedy\"},\n",
    "    {\"name\": \"What is the name\", \"imdb\": 9.2, \"category\": \"Suspense\"},\n",
    "    {\"name\": \"Detective\", \"imdb\": 7.0, \"category\": \"Suspense\"},\n",
    "    {\"name\": \"Exam\", \"imdb\": 4.2, \"category\": \"Thriller\"},\n",
    "    {\"name\": \"We Two\", \"imdb\": 7.2, \"category\": \"Romance\"}\n",
    "]\n",
    "\n",
    "def average_imdb_score(movie_list):\n",
    "    if not movie_list:\n",
    "        return 0\n",
    "    return sum(movie[\"imdb\"] for movie in movie_list) / len(movie_list)\n",
    "\n",
    "if __name__ == \"__main__\":\n",
    "    print(\"Average IMDB score:\", average_imdb_score(movies))\n"
   ]
  },
  {
   "cell_type": "markdown",
   "id": "b6b48039-3a83-49ef-b93b-56981133bd11",
   "metadata": {},
   "source": [
    "func2.5"
   ]
  },
  {
   "cell_type": "code",
   "execution_count": 75,
   "id": "7120b96a-3921-475b-ac2c-3036980fca3d",
   "metadata": {},
   "outputs": [
    {
     "name": "stdin",
     "output_type": "stream",
     "text": [
      "Enter category name:  Romance\n"
     ]
    },
    {
     "name": "stdout",
     "output_type": "stream",
     "text": [
      "Average IMDB score for category: 6.44\n"
     ]
    }
   ],
   "source": [
    "movies = [\n",
    "    {\"name\": \"Usual Suspects\", \"imdb\": 7.0, \"category\": \"Thriller\"},\n",
    "    {\"name\": \"Hitman\", \"imdb\": 6.3, \"category\": \"Action\"},\n",
    "    {\"name\": \"Dark Knight\", \"imdb\": 9.0, \"category\": \"Adventure\"},\n",
    "    {\"name\": \"The Help\", \"imdb\": 8.0, \"category\": \"Drama\"},\n",
    "    {\"name\": \"The Choice\", \"imdb\": 6.2, \"category\": \"Romance\"},\n",
    "    {\"name\": \"Colonia\", \"imdb\": 7.4, \"category\": \"Romance\"},\n",
    "    {\"name\": \"Love\", \"imdb\": 6.0, \"category\": \"Romance\"},\n",
    "    {\"name\": \"Bride Wars\", \"imdb\": 5.4, \"category\": \"Romance\"},\n",
    "    {\"name\": \"AlphaJet\", \"imdb\": 3.2, \"category\": \"War\"},\n",
    "    {\"name\": \"Ringing Crime\", \"imdb\": 4.0, \"category\": \"Crime\"},\n",
    "    {\"name\": \"Joking muck\", \"imdb\": 7.2, \"category\": \"Comedy\"},\n",
    "    {\"name\": \"What is the name\", \"imdb\": 9.2, \"category\": \"Suspense\"},\n",
    "    {\"name\": \"Detective\", \"imdb\": 7.0, \"category\": \"Suspense\"},\n",
    "    {\"name\": \"Exam\", \"imdb\": 4.2, \"category\": \"Thriller\"},\n",
    "    {\"name\": \"We Two\", \"imdb\": 7.2, \"category\": \"Romance\"}\n",
    "]\n",
    "\n",
    "def average_imdb_by_category(movie_list, category):\n",
    "    category_movies = [movie for movie in movie_list if movie[\"category\"].lower() == category.lower()]\n",
    "    if not category_movies:\n",
    "        return 0\n",
    "    return sum(movie[\"imdb\"] for movie in category_movies) / len(category_movies)\n",
    "\n",
    "if __name__ == \"__main__\":\n",
    "    category = input(\"Enter category name: \")\n",
    "    print(\"Average IMDB score for category:\", average_imdb_by_category(movies, category))"
   ]
  }
 ],
 "metadata": {
  "kernelspec": {
   "display_name": "Python 3 (ipykernel)",
   "language": "python",
   "name": "python3"
  },
  "language_info": {
   "codemirror_mode": {
    "name": "ipython",
    "version": 3
   },
   "file_extension": ".py",
   "mimetype": "text/x-python",
   "name": "python",
   "nbconvert_exporter": "python",
   "pygments_lexer": "ipython3",
   "version": "3.12.7"
  }
 },
 "nbformat": 4,
 "nbformat_minor": 5
}
